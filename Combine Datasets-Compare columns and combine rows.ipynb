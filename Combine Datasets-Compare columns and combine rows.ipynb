{
 "cells": [
  {
   "cell_type": "markdown",
   "id": "d7fc8865",
   "metadata": {},
   "source": [
    "## Below code can combine two datasets by comparing the columns of 2 excel files and if the same column appears in both files, it will combine on those columns, if not then it will be empty. \n",
    "### For example, the first dataset contains 2132 rows/records, the second one contains 562 rows/records, so after combining on same columns, the final dataset should contain 2694 rows."
   ]
  },
  {
   "cell_type": "code",
   "execution_count": 1,
   "id": "051fbd97",
   "metadata": {},
   "outputs": [],
   "source": [
    "#%pip install xlsxwriter\n",
    "#%pip install fuzzywuzzy\n",
    "#%pip install python-Levenshtein\n",
    "import pandas as pd\n",
    "from fuzzywuzzy import process\n",
    "from fuzzywuzzy import fuzz\n",
    "from difflib import SequenceMatcher"
   ]
  },
  {
   "cell_type": "code",
   "execution_count": 2,
   "id": "179bd852",
   "metadata": {},
   "outputs": [],
   "source": [
    "def compare_and_combine_rows(file1, file2, output_file):\n",
    "    # Read Excel files into pandas DataFrames\n",
    "    df1 = pd.read_excel(file1)\n",
    "    df2 = pd.read_excel(file2)\n",
    "\n",
    "    # Get common columns\n",
    "    common_columns = list(set(df1.columns) & set(df2.columns))\n",
    "\n",
    "    # Convert common columns to the same data type (e.g., object)\n",
    "    for col in common_columns:\n",
    "        df1[col] = df1[col].astype(str)\n",
    "        df2[col] = df2[col].astype(str)\n",
    "\n",
    "    # Merge DataFrames on common columns\n",
    "    merged_df = pd.merge(df1, df2, how='outer', on=common_columns)\n",
    "\n",
    "    # Save the results to a new Excel file\n",
    "    with pd.ExcelWriter(output_file, engine='xlsxwriter') as writer:\n",
    "        merged_df.to_excel(writer, sheet_name='Merged', index=False)\n",
    "\n",
    "if __name__ == \"__main__\":\n",
    "    # Replace 'file1.xlsx', 'file2.xlsx', and 'output.xlsx' with your actual file paths\n",
    "    compare_and_combine_rows('/Users/sedastepanyan/Downloads/NER_R8_step2_weightedbyfinalweight.xlsx', \n",
    "                             '/Users/sedastepanyan/Downloads/NER_step2_Flood_20231206.xlsx', \n",
    "                            '/Users/sedastepanyan/Downloads/Combined Datasets_Final.xlsx')\n"
   ]
  },
  {
   "cell_type": "markdown",
   "id": "0ee48315",
   "metadata": {},
   "source": [
    "## Below code does the same but considers that there are columns with similar meanings but different names, so it uses fuzzy matching library fuzzywuzzy to detect these columns. \n",
    "\n",
    "### For example in one file the column name 'flood_sev_nodamage' is called 'flood_sev_1' in the second file. But they are essentially the same columns with different names."
   ]
  },
  {
   "cell_type": "code",
   "execution_count": 2,
   "id": "395f15fc",
   "metadata": {},
   "outputs": [
    {
     "name": "stdout",
     "output_type": "stream",
     "text": [
      "<class 'pandas.core.frame.DataFrame'>\n",
      "RangeIndex: 2694 entries, 0 to 2693\n",
      "Columns: 765 entries, x to survey_uuid\n",
      "dtypes: float64(347), object(418)\n",
      "memory usage: 15.7+ MB\n",
      "None\n"
     ]
    }
   ],
   "source": [
    "# Function to perform sequence matching on column names\n",
    "def sequence_match_ratio(col1, col2):\n",
    "    return SequenceMatcher(None, col1, col2).ratio()\n",
    "\n",
    "# Function to combine datasets based on sequence matched columns\n",
    "def combine_datasets(file1, file2, output_file):\n",
    "    # Read datasets from Excel files\n",
    "    df1 = pd.read_excel(file1)\n",
    "    df2 = pd.read_excel(file2)\n",
    "\n",
    "    # Get column names from both datasets\n",
    "    columns_df1 = df1.columns\n",
    "    columns_df2 = df2.columns\n",
    "\n",
    "    # Match columns using sequence matching\n",
    "    matched_columns = []\n",
    "\n",
    "    for col1 in columns_df1:\n",
    "        best_match = max(columns_df2, key=lambda col2: sequence_match_ratio(col1, col2))\n",
    "        if sequence_match_ratio(col1, best_match) > 0.8:  # Adjust the threshold as needed\n",
    "            matched_columns.append((col1, best_match))\n",
    "\n",
    "    # Convert matched columns to strings to ensure a common data type\n",
    "    for col1, col2 in matched_columns:\n",
    "        df1[col1] = df1[col1].astype(str)\n",
    "        df2[col2] = df2[col2].astype(str)\n",
    "\n",
    "    # Combine datasets on matched columns\n",
    "    combined_df = pd.merge(df1, df2, how='outer', left_on=[col1 for col1, _ in matched_columns], right_on=[col2 for _, col2 in matched_columns])\n",
    "\n",
    "    # Save the combined dataset to a new Excel file\n",
    "    combined_df.to_excel(output_file, index=False)\n",
    "\n",
    "    return combined_df\n",
    "\n",
    "# Paths to the input Excel files and output Excel file\n",
    "file1_path = '/Users/sedastepanyan/Downloads/NER_R8_step2_20231121.xlsx'\n",
    "file2_path = '/Users/sedastepanyan/Downloads/NER_step2_Flood_20231206.xlsx'\n",
    "output_path = '/Users/sedastepanyan/Downloads/Combined Datasets.xlsx'\n",
    "\n",
    "# Combine datasets and save the result\n",
    "combined_dataset = combine_datasets(file1_path, file2_path, output_path)\n",
    "\n",
    "# Display information about the combined dataset\n",
    "print(combined_dataset.info())\n",
    "\n"
   ]
  }
 ],
 "metadata": {
  "kernelspec": {
   "display_name": "Python 3 (ipykernel)",
   "language": "python",
   "name": "python3"
  },
  "language_info": {
   "codemirror_mode": {
    "name": "ipython",
    "version": 3
   },
   "file_extension": ".py",
   "mimetype": "text/x-python",
   "name": "python",
   "nbconvert_exporter": "python",
   "pygments_lexer": "ipython3",
   "version": "3.11.5"
  }
 },
 "nbformat": 4,
 "nbformat_minor": 5
}
